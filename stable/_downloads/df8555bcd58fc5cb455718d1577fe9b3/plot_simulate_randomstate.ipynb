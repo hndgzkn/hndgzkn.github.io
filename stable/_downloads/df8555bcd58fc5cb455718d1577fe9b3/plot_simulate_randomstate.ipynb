{
  "cells": [
    {
      "cell_type": "code",
      "execution_count": null,
      "metadata": {
        "collapsed": false
      },
      "outputs": [],
      "source": [
        "%matplotlib inline"
      ]
    },
    {
      "cell_type": "markdown",
      "metadata": {},
      "source": [
        "\n# Selecting random state for CSC\n\nThe CSC problem is non-convex. Therefore, the solution depends\non the initialization. Here, we show how to select the\nbest atoms amongst different initializations.\n"
      ]
    },
    {
      "cell_type": "code",
      "execution_count": null,
      "metadata": {
        "collapsed": false
      },
      "outputs": [],
      "source": [
        "# Authors: Mainak Jas <mainak.jas@telecom-paristech.fr>\n#          Tom Dupre La Tour <tom.duprelatour@telecom-paristech.fr>\n#          Umut Simsekli <umut.simsekli@telecom-paristech.fr>\n#          Alexandre Gramfort <alexandre.gramfort@telecom-paristech.fr>\n#\n# License: BSD (3-clause)"
      ]
    },
    {
      "cell_type": "markdown",
      "metadata": {},
      "source": [
        "As before, let us first define the parameters of our model.\n\n"
      ]
    },
    {
      "cell_type": "code",
      "execution_count": null,
      "metadata": {
        "collapsed": false
      },
      "outputs": [],
      "source": [
        "n_times_atom = 64  # L\nn_times = 512  # T\nn_atoms = 2  # K\nn_trials = 100  # N\nn_iter = 50\n\nreg = 0.1"
      ]
    },
    {
      "cell_type": "markdown",
      "metadata": {},
      "source": [
        "Here, we simulate the data\n\n"
      ]
    },
    {
      "cell_type": "code",
      "execution_count": null,
      "metadata": {
        "collapsed": false
      },
      "outputs": [],
      "source": [
        "from alphacsc.simulate import simulate_data # noqa\nfrom scipy.stats import levy_stable # noqa\nfrom alphacsc import check_random_state # noqa\n\nrandom_state_simulate = 1\nX, ds_true, z_true = simulate_data(n_trials, n_times, n_times_atom,\n                                   n_atoms, random_state_simulate)\n\n# Add stationary noise:\nfraction_corrupted = 0.02\nn_corrupted_trials = int(fraction_corrupted * n_trials)\n\nrng = check_random_state(random_state_simulate)\nX += 0.01 * rng.randn(*X.shape)\n\nidx_corrupted = rng.randint(0, n_trials,\n                            size=n_corrupted_trials)"
      ]
    },
    {
      "cell_type": "markdown",
      "metadata": {},
      "source": [
        "Now, we run vanilla CSC on the data but with different initializations.\n\n"
      ]
    },
    {
      "cell_type": "code",
      "execution_count": null,
      "metadata": {
        "collapsed": false
      },
      "outputs": [],
      "source": [
        "from alphacsc import learn_d_z # noqa\n\npobjs, d_hats = list(), list()\nfor random_state in range(5):\n    print('\\nRandom state: %d' % random_state)\n    pobj, times, d_hat, z_hat, reg = learn_d_z(\n        X, n_atoms, n_times_atom, reg=reg, n_iter=n_iter,\n        solver_d_kwargs=dict(factr=100), random_state=random_state,\n        n_jobs=1, verbose=1)\n    pobjs.append(pobj[-1])\n    d_hats.append(d_hat)"
      ]
    },
    {
      "cell_type": "markdown",
      "metadata": {},
      "source": [
        "As we loop through the random states, we save the objective value `pobj`\nat the last iteration of the algorithm.\n\nNow, let us look at the atoms for different initializations.\n\n"
      ]
    },
    {
      "cell_type": "code",
      "execution_count": null,
      "metadata": {
        "collapsed": false
      },
      "outputs": [],
      "source": [
        "import matplotlib.pyplot as plt # noqa\nfig, axes = plt.subplots(1, 5, figsize=(17, 3), sharex=True, sharey=True)\nfor ax, this_pobjs, d_hat in zip(axes, pobjs, d_hats):\n    ax.plot(d_hat.T)\n    ax.plot(ds_true.T, 'k--')\n    ax.set_title('pobj: %0.2f' % this_pobjs)"
      ]
    },
    {
      "cell_type": "markdown",
      "metadata": {},
      "source": [
        "Note that lower the objective value, the better is the recovered atom.\nThis is one reason why using a concrete mathematical objective function as in\nconvolutional sparse coding is superior to heuristic methods.\nNow, we select the best atom amongst them.\n\n"
      ]
    },
    {
      "cell_type": "code",
      "execution_count": null,
      "metadata": {
        "collapsed": false
      },
      "outputs": [],
      "source": [
        "import numpy as np # noqa\n\nplt.figure()\nplt.plot(d_hats[np.argmin(pobjs)].T)\nplt.plot(ds_true.T, 'k--')\nplt.show()"
      ]
    }
  ],
  "metadata": {
    "kernelspec": {
      "display_name": "Python 3",
      "language": "python",
      "name": "python3"
    },
    "language_info": {
      "codemirror_mode": {
        "name": "ipython",
        "version": 3
      },
      "file_extension": ".py",
      "mimetype": "text/x-python",
      "name": "python",
      "nbconvert_exporter": "python",
      "pygments_lexer": "ipython3",
      "version": "3.9.1"
    }
  },
  "nbformat": 4,
  "nbformat_minor": 0
}