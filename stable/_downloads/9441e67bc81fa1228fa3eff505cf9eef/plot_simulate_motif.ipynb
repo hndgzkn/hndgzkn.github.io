{
  "cells": [
    {
      "cell_type": "code",
      "execution_count": null,
      "metadata": {
        "collapsed": false
      },
      "outputs": [],
      "source": [
        "%matplotlib inline"
      ]
    },
    {
      "cell_type": "markdown",
      "metadata": {},
      "source": [
        "\n# MoTIF on simulated data\n\nThis example demonstrates MoTIF [1] on simulated data. In the\nalphacsc module, we are offering all the alternatives for the users\nto try. Please cite our paper [2] if you use this implementation.\n\n[1] Jost, Philippe, et al.\n    \"MoTIF: An efficient algorithm for learning\n    translation invariant dictionaries.\" Acoustics, Speech and Signal\n    Processing, 2006. ICASSP 2006 Proceedings. 2006 IEEE International\n    Conference on. Vol. 5. IEEE, 2006.\n[2] Jas, M., Dupr'e La Tour, T., Simsekli, U., & Gramfort, A. (2017).\n    Learning the Morphology of Brain Signals Using Alpha-Stable Convolutional\n    Sparse Coding. arXiv preprint arXiv:1705.08006.\n"
      ]
    },
    {
      "cell_type": "code",
      "execution_count": null,
      "metadata": {
        "collapsed": false
      },
      "outputs": [],
      "source": [
        "# Authors: Mainak Jas <mainak.jas@telecom-paristech.fr>\n#          Tom Dupre La Tour <tom.duprelatour@telecom-paristech.fr>\n#          Umut Simsekli <umut.simsekli@telecom-paristech.fr>\n#          Alexandre Gramfort <alexandre.gramfort@telecom-paristech.fr>\n#\n# License: BSD (3-clause)"
      ]
    },
    {
      "cell_type": "markdown",
      "metadata": {},
      "source": [
        "Let us first import the modules.\n\n"
      ]
    },
    {
      "cell_type": "code",
      "execution_count": null,
      "metadata": {
        "collapsed": false
      },
      "outputs": [],
      "source": [
        "import matplotlib.pyplot as plt\nfrom alphacsc.simulate import simulate_data\nfrom alphacsc.other.motif import learn_atoms"
      ]
    },
    {
      "cell_type": "markdown",
      "metadata": {},
      "source": [
        "and define the relevant parameters. Note we choose a large n_times\nto avoid overlapping atoms which MoTIF cannot handle\n\n"
      ]
    },
    {
      "cell_type": "code",
      "execution_count": null,
      "metadata": {
        "collapsed": false
      },
      "outputs": [],
      "source": [
        "n_times_atom = 64  # L\nn_times = 5000  # T\nn_atoms = 2  # K\nn_trials = 10  # N"
      ]
    },
    {
      "cell_type": "markdown",
      "metadata": {},
      "source": [
        "simulate the data.\n\n"
      ]
    },
    {
      "cell_type": "code",
      "execution_count": null,
      "metadata": {
        "collapsed": false
      },
      "outputs": [],
      "source": [
        "random_state_simulate = 1\nX, ds_true, z_true = simulate_data(n_trials, n_times, n_times_atom,\n                                   n_atoms, random_state_simulate,\n                                   constant_amplitude=True)\n\nn_times_atom = n_times_atom * 7  # XXX: hack\nn_iter = 10\nmax_shift = 11  # after this, the algorithm breaks"
      ]
    },
    {
      "cell_type": "markdown",
      "metadata": {},
      "source": [
        "Note, how we use constant_amplitude=True since\nMoTIF cannot handle atoms of varying amplitudes. Check out our examples\non `vanilla CSC <sphx_glr_auto_examples_plot_simulate_csc.py>` and\n`alphaCSC <sphx_glr_auto_examples_plot_simulate_alphacsc.py>` to learn\nhow to deal with such cases.\nFinally, let us estimate the atoms.\n\n"
      ]
    },
    {
      "cell_type": "code",
      "execution_count": null,
      "metadata": {
        "collapsed": false
      },
      "outputs": [],
      "source": [
        "ds_hat = learn_atoms(X, n_atoms, n_times_atom, n_iter=n_iter,\n                     max_shift=max_shift, random_state=42)\nplt.plot(ds_hat.T)"
      ]
    },
    {
      "cell_type": "markdown",
      "metadata": {},
      "source": [
        "Compare this to the original atoms\n\n"
      ]
    },
    {
      "cell_type": "code",
      "execution_count": null,
      "metadata": {
        "collapsed": false
      },
      "outputs": [],
      "source": [
        "plt.figure()\nplt.plot(ds_true.T)\nplt.show()"
      ]
    }
  ],
  "metadata": {
    "kernelspec": {
      "display_name": "Python 3",
      "language": "python",
      "name": "python3"
    },
    "language_info": {
      "codemirror_mode": {
        "name": "ipython",
        "version": 3
      },
      "file_extension": ".py",
      "mimetype": "text/x-python",
      "name": "python",
      "nbconvert_exporter": "python",
      "pygments_lexer": "ipython3",
      "version": "3.9.1"
    }
  },
  "nbformat": 4,
  "nbformat_minor": 0
}