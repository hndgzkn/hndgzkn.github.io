{
  "cells": [
    {
      "cell_type": "code",
      "execution_count": null,
      "metadata": {
        "collapsed": false
      },
      "outputs": [],
      "source": [
        "%matplotlib inline"
      ]
    },
    {
      "cell_type": "markdown",
      "metadata": {},
      "source": [
        "\n# SWM on simulated data\n\nThis example shows how the sliding window method (SWM) [1]\nworks on simulated data. The code is adapted from the\n`neurodsp package <https://github.com/voytekresearch/neurodsp/>`_\nfrom Voytek lab. Note that, at present, it does not\nimplement parallel tempering.\n\n[1] Gips, Bart, et al.\n    Discovering recurring patterns in electrophysiological recordings.\n    Journal of neuroscience methods 275 (2017): 66-79.\n"
      ]
    },
    {
      "cell_type": "code",
      "execution_count": null,
      "metadata": {
        "collapsed": false
      },
      "outputs": [],
      "source": [
        "# Authors: Scott Cole\n#          Mainak Jas <mainak.jas@telecom-paristech.fr>\n#\n# License: BSD (3-clause)"
      ]
    },
    {
      "cell_type": "markdown",
      "metadata": {},
      "source": [
        "Let us define the model parameters\n\n"
      ]
    },
    {
      "cell_type": "code",
      "execution_count": null,
      "metadata": {
        "collapsed": false
      },
      "outputs": [],
      "source": [
        "n_times_atom = 64  # L\nn_times = 5000  # T\nn_trials = 10  # N"
      ]
    },
    {
      "cell_type": "markdown",
      "metadata": {},
      "source": [
        "The algorithm does not naturally lend itself to multiple atoms. Therefore,\nwe simulate only one atom.\n\n"
      ]
    },
    {
      "cell_type": "code",
      "execution_count": null,
      "metadata": {
        "collapsed": false
      },
      "outputs": [],
      "source": [
        "n_atoms = 1  # K"
      ]
    },
    {
      "cell_type": "markdown",
      "metadata": {},
      "source": [
        "A minimum spacing between the windows averaged must be found.\n\n"
      ]
    },
    {
      "cell_type": "code",
      "execution_count": null,
      "metadata": {
        "collapsed": false
      },
      "outputs": [],
      "source": [
        "min_spacing = 200  # G"
      ]
    },
    {
      "cell_type": "markdown",
      "metadata": {},
      "source": [
        "Now, we can simulate\n\n"
      ]
    },
    {
      "cell_type": "code",
      "execution_count": null,
      "metadata": {
        "collapsed": false
      },
      "outputs": [],
      "source": [
        "from alphacsc import check_random_state\nfrom alphacsc.simulate import simulate_data\n\nrandom_state_simulate = 1\nX, ds_true, z_true = simulate_data(n_trials, n_times, n_times_atom,\n                                   n_atoms, random_state_simulate,\n                                   constant_amplitude=True)\n\nrng = check_random_state(random_state_simulate)\nX += 0.01 * rng.randn(*X.shape)"
      ]
    },
    {
      "cell_type": "markdown",
      "metadata": {},
      "source": [
        "We expect 10 occurences of the atom in total.\nSo, let us define 10 random locations for the algorithm to start with.\nIf this number is not known, we will end up estimating more/less windows.\n\n"
      ]
    },
    {
      "cell_type": "code",
      "execution_count": null,
      "metadata": {
        "collapsed": false
      },
      "outputs": [],
      "source": [
        "import numpy as np\nwindow_starts = rng.choice(np.arange(n_trials * n_times), size=n_trials)"
      ]
    },
    {
      "cell_type": "markdown",
      "metadata": {},
      "source": [
        "Now, we apply the SWM algorithm now.\n\n"
      ]
    },
    {
      "cell_type": "code",
      "execution_count": null,
      "metadata": {
        "collapsed": false
      },
      "outputs": [],
      "source": [
        "from alphacsc.other.swm import sliding_window_matching\n\nrandom_state = 42\nX = X.reshape(X.shape[0] * X.shape[1])  # expects 1D time series\nd_hat, window_starts, J = sliding_window_matching(\n    X, L=n_times_atom, G=min_spacing, window_starts_custom=window_starts,\n    max_iterations=10000, T=0.01, random_state=random_state)"
      ]
    },
    {
      "cell_type": "markdown",
      "metadata": {},
      "source": [
        "Let us look at the data at the time windows when the atoms are found.\n\n"
      ]
    },
    {
      "cell_type": "code",
      "execution_count": null,
      "metadata": {
        "collapsed": false
      },
      "outputs": [],
      "source": [
        "import matplotlib.pyplot as plt\nfig, axes = plt.subplots(2, n_trials // 2, sharex=True, sharey=True,\n                         figsize=(15, 3))\naxes = axes.ravel()\nfor ax, w_start in zip(axes, window_starts):\n    ax.plot(X[w_start:w_start + n_times_atom])"
      ]
    },
    {
      "cell_type": "markdown",
      "metadata": {},
      "source": [
        "It is not perfect, but it does find time windows where the atom\nis present. Now let us plot the atoms.\n\n"
      ]
    },
    {
      "cell_type": "code",
      "execution_count": null,
      "metadata": {
        "collapsed": false
      },
      "outputs": [],
      "source": [
        "plt.figure()\nplt.plot(d_hat / np.linalg.norm(d_hat))\nplt.plot(ds_true.T, '--')"
      ]
    },
    {
      "cell_type": "markdown",
      "metadata": {},
      "source": [
        "and the cost function over iterations\n\n"
      ]
    },
    {
      "cell_type": "code",
      "execution_count": null,
      "metadata": {
        "collapsed": false
      },
      "outputs": [],
      "source": [
        "plt.figure()\nplt.plot(J)\nplt.ylabel('Cost function J')\nplt.xlabel('Iteration #')\nplt.show()"
      ]
    }
  ],
  "metadata": {
    "kernelspec": {
      "display_name": "Python 3",
      "language": "python",
      "name": "python3"
    },
    "language_info": {
      "codemirror_mode": {
        "name": "ipython",
        "version": 3
      },
      "file_extension": ".py",
      "mimetype": "text/x-python",
      "name": "python",
      "nbconvert_exporter": "python",
      "pygments_lexer": "ipython3",
      "version": "3.9.1"
    }
  },
  "nbformat": 4,
  "nbformat_minor": 0
}