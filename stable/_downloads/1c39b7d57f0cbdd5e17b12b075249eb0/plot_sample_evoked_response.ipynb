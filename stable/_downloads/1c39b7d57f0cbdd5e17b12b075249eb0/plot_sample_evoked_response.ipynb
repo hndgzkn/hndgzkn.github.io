{
  "cells": [
    {
      "cell_type": "code",
      "execution_count": null,
      "metadata": {
        "collapsed": false
      },
      "outputs": [],
      "source": [
        "%matplotlib inline"
      ]
    },
    {
      "cell_type": "markdown",
      "metadata": {},
      "source": [
        "\n# Extracting artifact and evoked response atoms from the sample dataset\n\nThis example illustrates how to learn rank-1 [1]_ atoms on the multivariate\nsample dataset from :code:`mne`. We display a selection of atoms, featuring\nheartbeat and eyeblink artifacts, three atoms of evoked responses, and a\nnon-sinusoidal oscillation.\n\n.. [1] Dupr\u00e9 La Tour, T., Moreau, T., Jas, M., & Gramfort, A. (2018).\n    `Multivariate Convolutional Sparse Coding for Electromagnetic Brain Signals\n    <https://arxiv.org/abs/1805.09654v2>`_. Advances in Neural Information\n    Processing Systems (NIPS).\n"
      ]
    },
    {
      "cell_type": "code",
      "execution_count": null,
      "metadata": {
        "collapsed": false
      },
      "outputs": [],
      "source": [
        "# Authors: Thomas Moreau <thomas.moreau@inria.fr>\n#          Mainak Jas <mainak.jas@telecom-paristech.fr>\n#          Tom Dupre La Tour <tom.duprelatour@telecom-paristech.fr>\n#          Alexandre Gramfort <alexandre.gramfort@telecom-paristech.fr>\n#\n# License: BSD (3-clause)"
      ]
    },
    {
      "cell_type": "markdown",
      "metadata": {},
      "source": [
        "Let us first define the parameters of our model.\n\n"
      ]
    },
    {
      "cell_type": "code",
      "execution_count": null,
      "metadata": {
        "collapsed": false
      },
      "outputs": [],
      "source": [
        "# sample frequency\nsfreq = 150.\n\n# Define the shape of the dictionary\nn_atoms = 40\nn_times_atom = int(round(sfreq * 1.0))  # 1000. ms\n\n# Regularization parameter which control sparsity\nreg = 0.1\n\n# number of processors for parallel computing\nn_jobs = 5"
      ]
    },
    {
      "cell_type": "markdown",
      "metadata": {},
      "source": [
        "Next, we define the parameters for multivariate CSC\n\n"
      ]
    },
    {
      "cell_type": "code",
      "execution_count": null,
      "metadata": {
        "collapsed": false
      },
      "outputs": [],
      "source": [
        "from alphacsc import GreedyCDL\ncdl = GreedyCDL(\n    # Shape of the dictionary\n    n_atoms=n_atoms,\n    n_times_atom=n_times_atom,\n    # Request a rank1 dictionary with unit norm temporal and spatial maps\n    rank1=True,\n    uv_constraint='separate',\n    # apply a temporal window reparametrization\n    window=True,\n    # at the end, refit the activations with fixed support and no reg to unbias\n    unbiased_z_hat=True,\n    # Initialize the dictionary with random chunk from the data\n    D_init='chunk',\n    # rescale the regularization parameter to be a percentage of lambda_max\n    lmbd_max=\"scaled\",\n    reg=reg,\n    # Number of iteration for the alternate minimization and cvg threshold\n    n_iter=100,\n    eps=1e-4,\n    # solver for the z-step\n    solver_z=\"lgcd\",\n    solver_z_kwargs={'tol': 1e-2,\n                     'max_iter': 10000},\n    # solver for the d-step\n    solver_d='alternate_adaptive',\n    solver_d_kwargs={'max_iter': 300},\n    # sort atoms by explained variances\n    sort_atoms=True,\n    # Technical parameters\n    verbose=1,\n    random_state=0,\n    n_jobs=n_jobs)"
      ]
    },
    {
      "cell_type": "markdown",
      "metadata": {},
      "source": [
        "Here, we load the data from the sample datase. The data is not epoched yet,\nbut we split it into 12 parts to make the most of multiple processors during\nthe model fitting.\n\n"
      ]
    },
    {
      "cell_type": "code",
      "execution_count": null,
      "metadata": {
        "collapsed": false
      },
      "outputs": [],
      "source": [
        "from alphacsc.datasets.somato import load_data\nX_split, info = load_data(sfreq=sfreq, dataset='sample', n_splits=2 * n_jobs)"
      ]
    },
    {
      "cell_type": "markdown",
      "metadata": {},
      "source": [
        "Fit the model and learn rank1 atoms\n\n"
      ]
    },
    {
      "cell_type": "code",
      "execution_count": null,
      "metadata": {
        "collapsed": false
      },
      "outputs": [],
      "source": [
        "cdl.fit(X_split)"
      ]
    },
    {
      "cell_type": "markdown",
      "metadata": {},
      "source": [
        "To avoid artifacts due to the splitting, we can optionally reload the data.\n\n"
      ]
    },
    {
      "cell_type": "code",
      "execution_count": null,
      "metadata": {
        "collapsed": false
      },
      "outputs": [],
      "source": [
        "X, info = load_data(sfreq=sfreq, dataset='sample', n_splits=1)"
      ]
    },
    {
      "cell_type": "markdown",
      "metadata": {},
      "source": [
        "Then we call the `transform` method, which returns the sparse codes\nassociated with X, without changing the dictionary learned during the `fit`.\n\n"
      ]
    },
    {
      "cell_type": "code",
      "execution_count": null,
      "metadata": {
        "collapsed": false
      },
      "outputs": [],
      "source": [
        "z_hat = cdl.transform(X)"
      ]
    },
    {
      "cell_type": "markdown",
      "metadata": {},
      "source": [
        "Display a selection of atoms. We recognize a heartbeat artifact, an\neyeblink artifact, three atoms of evoked responses, and a non-sinusoidal\noscillation.\n\n"
      ]
    },
    {
      "cell_type": "code",
      "execution_count": null,
      "metadata": {
        "collapsed": false
      },
      "outputs": [],
      "source": [
        "import mne\nimport numpy as np\nimport matplotlib.pyplot as plt\n\nfrom alphacsc.utils.convolution import construct_X_multi\nfrom alphacsc.viz.epoch import plot_evoked_surrogates\n\n# preselected atoms of interest\nplotted_atoms = [2, 0, 3, 15, 20, 11]\n\nn_plots = 3  # number of plots by atom\nn_columns = min(6, len(plotted_atoms))\nsplit = int(np.ceil(len(plotted_atoms) / n_columns))\nfigsize = (4 * n_columns, 3 * n_plots * split)\nfig, axes = plt.subplots(n_plots * split, n_columns, figsize=figsize)\nfor ii, kk in enumerate(plotted_atoms):\n\n    # Select the axes to display the current atom\n    print(\"\\rDisplaying {}-th atom\".format(kk), end='', flush=True)\n    i_row, i_col = ii // n_columns, ii % n_columns\n    it_axes = iter(axes[i_row * n_plots:(i_row + 1) * n_plots, i_col])\n\n    # Select the current atom\n    u_k = cdl.u_hat_[kk]\n    v_k = cdl.v_hat_[kk]\n\n    # Plot the spatial map of the atom using mne topomap\n    ax = next(it_axes)\n    mne.viz.plot_topomap(u_k, info, axes=ax, show=False)\n    ax.set(title=\"Spatial pattern %d\" % (kk, ))\n\n    # Plot the temporal pattern of the atom\n    ax = next(it_axes)\n    t = np.arange(n_times_atom) / sfreq\n    ax.plot(t, v_k)\n    ax.set_xlim(0, n_times_atom / sfreq)\n    ax.set(xlabel='Time (sec)', title=\"Temporal pattern %d\" % kk)\n\n    # Plot the power spectral density (PSD)\n    ax = next(it_axes)\n    psd = np.abs(np.fft.rfft(v_k, n=256)) ** 2\n    frequencies = np.linspace(0, sfreq / 2.0, len(psd))\n    ax.semilogy(frequencies, psd, label='PSD', color='k')\n    ax.set(xlabel='Frequencies (Hz)', title=\"Power spectral density %d\" % kk)\n    ax.grid(True)\n    ax.set_xlim(0, 30)\n    ax.set_ylim(1e-4, 1e2)\n    ax.legend()\n\nfig.tight_layout()"
      ]
    },
    {
      "cell_type": "markdown",
      "metadata": {},
      "source": [
        "Display the evoked reconstructed enveloppe:\nFor each atom (columns), and for each event (rows), we compute the enveloppe\nof the reconstructed signal, align it with respect to the event onsets, and\ntake the average. For some atoms, the activations are correlated with the\nevents, leading to a large evoked enveloppe. The gray area corresponds to\nnot statistically significant values.\n\n"
      ]
    },
    {
      "cell_type": "code",
      "execution_count": null,
      "metadata": {
        "collapsed": false
      },
      "outputs": [],
      "source": [
        "from copy import deepcopy\nfrom alphacsc.utils.signal import fast_hilbert\n\n# time window around the events\nt_lim = (-0.1, 0.5)\n\nn_plots = len(np.atleast_1d(info['event_id']))\nn_columns = min(6, len(plotted_atoms))\nsplit = int(np.ceil(len(plotted_atoms) / n_columns))\nfigsize = (4 * n_columns, 3 * n_plots * split)\nfig, axes = plt.subplots(n_plots * split, n_columns, figsize=figsize)\n\nfor ii, kk in enumerate(plotted_atoms):\n\n    # Select the axes to display the current atom\n    print(\"\\rDisplaying {}-th atom\".format(kk), end='', flush=True)\n    i_row, i_col = ii // n_columns, ii % n_columns\n    it_axes = iter(axes[i_row * n_plots:(i_row + 1) * n_plots, i_col])\n\n    # Select the current atom\n    v_k = cdl.v_hat_[kk]\n    v_k_1 = np.r_[[1], v_k][None]\n    z_k = z_hat[:, kk:kk + 1]\n    X_k = construct_X_multi(z_k, v_k_1, n_channels=1)[0, 0]\n\n    # compute the 'enveloppe' of the reconstructed signal X_k\n    correlation = np.abs(fast_hilbert(X_k))\n\n    # loop over all events IDs\n    for this_event_id in np.atleast_1d(info['event_id']):\n        # select the event by its ID, and create a new info dictionary\n        this_info = deepcopy(info)\n        this_info['events'] = this_info['events'][this_info['events'][:, 2] ==\n                                                  this_event_id]\n        this_info['event_id'] = this_event_id\n\n        # plotting function\n        ax = next(it_axes)\n        plot_evoked_surrogates(correlation, info=this_info, t_lim=t_lim, ax=ax,\n                               n_jobs=n_jobs, label='event %d' % this_event_id)\n        ax.set(xlabel='Time (sec)', title=\"Evoked enveloppe %d\" % kk)\n\nfig.tight_layout()"
      ]
    }
  ],
  "metadata": {
    "kernelspec": {
      "display_name": "Python 3",
      "language": "python",
      "name": "python3"
    },
    "language_info": {
      "codemirror_mode": {
        "name": "ipython",
        "version": 3
      },
      "file_extension": ".py",
      "mimetype": "text/x-python",
      "name": "python",
      "nbconvert_exporter": "python",
      "pygments_lexer": "ipython3",
      "version": "3.8.5"
    }
  },
  "nbformat": 4,
  "nbformat_minor": 0
}