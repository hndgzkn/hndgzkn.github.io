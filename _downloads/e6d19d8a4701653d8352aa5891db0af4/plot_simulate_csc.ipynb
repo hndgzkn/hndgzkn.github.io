{
  "cells": [
    {
      "cell_type": "code",
      "execution_count": null,
      "metadata": {
        "collapsed": false
      },
      "outputs": [],
      "source": [
        "%matplotlib inline"
      ]
    },
    {
      "cell_type": "markdown",
      "metadata": {},
      "source": [
        "\n# Vanilla CSC on simulated data\n\nThis example demonstrates `vanilla` CSC on simulated data.\nNote that `vanilla` CSC is just a special case of alphaCSC with alpha=2.\n"
      ]
    },
    {
      "cell_type": "code",
      "execution_count": null,
      "metadata": {
        "collapsed": false
      },
      "outputs": [],
      "source": [
        "# Authors: Mainak Jas <mainak.jas@telecom-paristech.fr>\n#          Tom Dupre La Tour <tom.duprelatour@telecom-paristech.fr>\n#          Umut Simsekli <umut.simsekli@telecom-paristech.fr>\n#          Alexandre Gramfort <alexandre.gramfort@telecom-paristech.fr>\n#\n# License: BSD (3-clause)"
      ]
    },
    {
      "cell_type": "markdown",
      "metadata": {},
      "source": [
        "Let us first define the parameters of our model.\n\n"
      ]
    },
    {
      "cell_type": "code",
      "execution_count": null,
      "metadata": {
        "collapsed": false
      },
      "outputs": [],
      "source": [
        "n_times_atom = 64  # L\nn_times = 512  # T\nn_atoms = 2  # K\nn_trials = 100  # N\nn_iter = 50\n\nreg = 0.1"
      ]
    },
    {
      "cell_type": "markdown",
      "metadata": {},
      "source": [
        "Here, we simulate the data\n\n"
      ]
    },
    {
      "cell_type": "code",
      "execution_count": null,
      "metadata": {
        "collapsed": false
      },
      "outputs": [],
      "source": [
        "from alphacsc.simulate import simulate_data # noqa\n\nrandom_state_simulate = 1\nX, ds_true, z_true = simulate_data(n_trials, n_times, n_times_atom,\n                                   n_atoms, random_state_simulate)"
      ]
    },
    {
      "cell_type": "markdown",
      "metadata": {},
      "source": [
        "Add some noise and corrupt some trials\n\n"
      ]
    },
    {
      "cell_type": "code",
      "execution_count": null,
      "metadata": {
        "collapsed": false
      },
      "outputs": [],
      "source": [
        "from scipy.stats import levy_stable # noqa\nfrom alphacsc import check_random_state # noqa\n\n# Add stationary noise:\nfraction_corrupted = 0.02\nn_corrupted_trials = int(fraction_corrupted * n_trials)\n\nrng = check_random_state(random_state_simulate)\nX += 0.01 * rng.randn(*X.shape)\n\nidx_corrupted = rng.randint(0, n_trials,\n                            size=n_corrupted_trials)"
      ]
    },
    {
      "cell_type": "markdown",
      "metadata": {},
      "source": [
        "Let us look at the first 10 trials to see how they look.\n\n"
      ]
    },
    {
      "cell_type": "code",
      "execution_count": null,
      "metadata": {
        "collapsed": false
      },
      "outputs": [],
      "source": [
        "from alphacsc.viz.callback import plot_data # noqa\nplot_data([X[:10]])"
      ]
    },
    {
      "cell_type": "markdown",
      "metadata": {},
      "source": [
        "Note that the atoms don't always have the same amplitude or occur at the\nsame time instant.\n\nNow, we run vanilla CSC on the data.\n\n"
      ]
    },
    {
      "cell_type": "code",
      "execution_count": null,
      "metadata": {
        "collapsed": false
      },
      "outputs": [],
      "source": [
        "from alphacsc import learn_d_z # noqa\n\nrandom_state = 60\n\npobj, times, d_hat, z_hat, reg = learn_d_z(\n    X, n_atoms, n_times_atom, reg=reg, n_iter=n_iter,\n    solver_d_kwargs=dict(factr=100), random_state=random_state,\n    n_jobs=1, verbose=1)\nprint('Vanilla CSC')"
      ]
    },
    {
      "cell_type": "markdown",
      "metadata": {},
      "source": [
        "Finally, let's compare the results.\n\n"
      ]
    },
    {
      "cell_type": "code",
      "execution_count": null,
      "metadata": {
        "collapsed": false
      },
      "outputs": [],
      "source": [
        "import matplotlib.pyplot as plt # noqa\nplt.figure()\nplt.plot(d_hat.T)\nplt.plot(ds_true.T, 'k--')"
      ]
    },
    {
      "cell_type": "markdown",
      "metadata": {},
      "source": [
        "We can also visualize the learned activations\n\n"
      ]
    },
    {
      "cell_type": "code",
      "execution_count": null,
      "metadata": {
        "collapsed": false
      },
      "outputs": [],
      "source": [
        "plot_data([z[:10] for z in z_hat], ['stem'] * n_atoms)"
      ]
    },
    {
      "cell_type": "markdown",
      "metadata": {},
      "source": [
        "Note if the data is corrupted with impulsive noise, this method may not be\nthe best.  Check out our `example using alphacsc\n<sphx_glr_auto_examples_plot_simulate_alphacsc.py>` to learn how to deal with\nsuch data.\n\n"
      ]
    },
    {
      "cell_type": "code",
      "execution_count": null,
      "metadata": {
        "collapsed": false
      },
      "outputs": [],
      "source": [
        "alpha = 1.2\nnoise_level = 0.005\nX[idx_corrupted] += levy_stable.rvs(alpha, 0, loc=0, scale=noise_level,\n                                    size=(n_corrupted_trials, n_times),\n                                    random_state=random_state_simulate)\npobj, times, d_hat, z_hat, reg = learn_d_z(\n    X, n_atoms, n_times_atom, reg=reg, n_iter=n_iter,\n    solver_d_kwargs=dict(factr=100), random_state=random_state,\n    n_jobs=1, verbose=1)\nplt.figure()\nplt.plot(d_hat.T)\nplt.plot(ds_true.T, 'k--')\nplt.show()"
      ]
    }
  ],
  "metadata": {
    "kernelspec": {
      "display_name": "Python 3",
      "language": "python",
      "name": "python3"
    },
    "language_info": {
      "codemirror_mode": {
        "name": "ipython",
        "version": 3
      },
      "file_extension": ".py",
      "mimetype": "text/x-python",
      "name": "python",
      "nbconvert_exporter": "python",
      "pygments_lexer": "ipython3",
      "version": "3.8.2"
    }
  },
  "nbformat": 4,
  "nbformat_minor": 0
}