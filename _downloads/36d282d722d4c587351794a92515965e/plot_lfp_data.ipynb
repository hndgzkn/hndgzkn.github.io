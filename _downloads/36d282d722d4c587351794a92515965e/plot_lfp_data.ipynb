{
  "cells": [
    {
      "cell_type": "code",
      "execution_count": null,
      "metadata": {
        "collapsed": false
      },
      "outputs": [],
      "source": [
        "%matplotlib inline"
      ]
    },
    {
      "cell_type": "markdown",
      "metadata": {},
      "source": [
        "\n# CSC to learn LFP spiking atoms\n\nHere, we show how CSC can be used to learn spiking\natoms from Local Field Potential (LFP) data [1].\n\n[1] Hitziger, Sebastian, et al.\n    Adaptive Waveform Learning: A Framework for Modeling Variability in\n    Neurophysiological Signals. IEEE Transactions on Signal Processing (2017).\n"
      ]
    },
    {
      "cell_type": "markdown",
      "metadata": {},
      "source": [
        "First, let us fetch the data (~14 MB)\n\n"
      ]
    },
    {
      "cell_type": "code",
      "execution_count": null,
      "metadata": {
        "collapsed": false
      },
      "outputs": [],
      "source": [
        "import os\nfrom mne.utils import _fetch_file\n\nurl = ('https://github.com/hitziger/AWL/raw/master/Experiments/data/'\n       'LFP_data_contiguous_1250_Hz.mat')\nfname = './LFP_data_contiguous_1250_Hz.mat'\nif not os.path.exists(fname):\n    _fetch_file(url, fname)"
      ]
    },
    {
      "cell_type": "markdown",
      "metadata": {},
      "source": [
        "It is a mat file, so we use scipy to load it\n\n"
      ]
    },
    {
      "cell_type": "code",
      "execution_count": null,
      "metadata": {
        "collapsed": false
      },
      "outputs": [],
      "source": [
        "from scipy import io\n\ndata = io.loadmat(fname)\nX, sfreq = data['X'].T, float(data['sfreq'])"
      ]
    },
    {
      "cell_type": "markdown",
      "metadata": {},
      "source": [
        "And now let us look at the data\n\n"
      ]
    },
    {
      "cell_type": "code",
      "execution_count": null,
      "metadata": {
        "collapsed": false
      },
      "outputs": [],
      "source": [
        "import numpy as np\nimport matplotlib.pyplot as plt\n\nstart, stop = 11000, 15000\ntimes = np.arange(start, stop) / sfreq\nplt.plot(times, X[0, start:stop], color='b')\nplt.xlabel('Time (s)')\nplt.ylabel(r'$\\mu$ V')\nplt.xlim([9., 12.])"
      ]
    },
    {
      "cell_type": "markdown",
      "metadata": {},
      "source": [
        "and filter it using a convenient function from MNE. This will remove low\nfrequency drifts, but we keep the high frequencies\n\n"
      ]
    },
    {
      "cell_type": "code",
      "execution_count": null,
      "metadata": {
        "collapsed": false
      },
      "outputs": [],
      "source": [
        "from mne.filter import filter_data\nX = filter_data(\n    X.astype(np.float64), sfreq, l_freq=1, h_freq=None, fir_design='firwin')"
      ]
    },
    {
      "cell_type": "markdown",
      "metadata": {},
      "source": [
        "Now, we define the parameters of our model.\n\n"
      ]
    },
    {
      "cell_type": "code",
      "execution_count": null,
      "metadata": {
        "collapsed": false
      },
      "outputs": [],
      "source": [
        "reg = 6.0\nn_times = 2500\nn_times_atom = 350\nn_trials = 100\nn_atoms = 3\nn_iter = 60"
      ]
    },
    {
      "cell_type": "markdown",
      "metadata": {},
      "source": [
        "Let's stick to one random state for now, but if you want to learn how to\nselect the random state, consult `this example\n<sphx_glr_auto_examples_plot_simulate_randomstate.py>`.\n\n"
      ]
    },
    {
      "cell_type": "code",
      "execution_count": null,
      "metadata": {
        "collapsed": false
      },
      "outputs": [],
      "source": [
        "random_state = 10"
      ]
    },
    {
      "cell_type": "markdown",
      "metadata": {},
      "source": [
        "Now, we epoch the trials\n\n"
      ]
    },
    {
      "cell_type": "code",
      "execution_count": null,
      "metadata": {
        "collapsed": false
      },
      "outputs": [],
      "source": [
        "overlap = 0\nstarts = np.arange(0, X.shape[1] - n_times, n_times - overlap)\nstops = np.arange(n_times, X.shape[1], n_times - overlap)\n\nX_new = []\nfor idx, (start, stop) in enumerate(zip(starts, stops)):\n    if idx >= n_trials:\n        break\n    X_new.append(X[0, start:stop])\nX_new = np.vstack(X_new)\ndel X"
      ]
    },
    {
      "cell_type": "markdown",
      "metadata": {},
      "source": [
        "We remove the mean and scale to unit variance.\n\n"
      ]
    },
    {
      "cell_type": "code",
      "execution_count": null,
      "metadata": {
        "collapsed": false
      },
      "outputs": [],
      "source": [
        "X_new -= np.mean(X_new)\nX_new /= np.std(X_new)"
      ]
    },
    {
      "cell_type": "markdown",
      "metadata": {},
      "source": [
        "The convolutions can result in edge artifacts at the edges of the trials.\nTherefore, we discount the contributions from the edges by windowing the\ntrials.\n\n"
      ]
    },
    {
      "cell_type": "code",
      "execution_count": null,
      "metadata": {
        "collapsed": false
      },
      "outputs": [],
      "source": [
        "from numpy import hamming\nX_new *= hamming(n_times)[None, :]"
      ]
    },
    {
      "cell_type": "markdown",
      "metadata": {},
      "source": [
        "Of course, in a data-limited setting we want to use as much of the data as\npossible. If this is the case, you can set `overlap` to non-zero (for example\nhalf the epoch length).\n\nNow, we run regular CSC since the trials are not too noisy\n\n"
      ]
    },
    {
      "cell_type": "code",
      "execution_count": null,
      "metadata": {
        "collapsed": false
      },
      "outputs": [],
      "source": [
        "from alphacsc import learn_d_z\npobj, times, d_hat, z_hat, reg = learn_d_z(X_new, n_atoms, n_times_atom,\n                                           reg=reg, n_iter=n_iter,\n                                           random_state=random_state, n_jobs=1)"
      ]
    },
    {
      "cell_type": "markdown",
      "metadata": {},
      "source": [
        "Let's look at the atoms now.\n\n"
      ]
    },
    {
      "cell_type": "code",
      "execution_count": null,
      "metadata": {
        "collapsed": false
      },
      "outputs": [],
      "source": [
        "plt.figure()\nplt.plot(d_hat.T)\nplt.show()"
      ]
    }
  ],
  "metadata": {
    "kernelspec": {
      "display_name": "Python 3",
      "language": "python",
      "name": "python3"
    },
    "language_info": {
      "codemirror_mode": {
        "name": "ipython",
        "version": 3
      },
      "file_extension": ".py",
      "mimetype": "text/x-python",
      "name": "python",
      "nbconvert_exporter": "python",
      "pygments_lexer": "ipython3",
      "version": "3.8.2"
    }
  },
  "nbformat": 4,
  "nbformat_minor": 0
}