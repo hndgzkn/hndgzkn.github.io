{
  "cells": [
    {
      "cell_type": "code",
      "execution_count": null,
      "metadata": {
        "collapsed": false
      },
      "outputs": [],
      "source": [
        "%matplotlib inline"
      ]
    },
    {
      "cell_type": "markdown",
      "metadata": {},
      "source": [
        "\n# Alpha CSC on empirical time-series with strong artifacts\n\nThis example illustrates how to learn univariate atoms on a univariate\ntime-serie affected by strong artifacts. The data is a single LFP channel\nrecorded on a rodent's striatum [1]_. Interestingly in this time-serie, the\nhigh frequency oscillations around 80 Hz are modulated in amplitude by the\nlow-frequency oscillation around 3 Hz, a phenomenon known as cross-frequency\ncoupling (CFC).\n\nThe convolutional sparse coding (CSC) model is able to learn the prototypical\nwaveforms of the signal, on which we can clearly see the CFC. However, when the\nCSC model is fitted on a data section with strong artifacts, the learned atoms\ndo not show the expected CFC waveforms. To solve this problem, another model\ncan be used, called alpha-CSC [2]_, which is less affected by strong artifacts\nin the data.\n\n.. [1] G. Dall\u00e9rac, M. Graupner, J. Knippenberg, R. C. R. Martinez,\n    T. F. Tavares, L. Tallot, N. El Massioui, A. Verschueren, S. H\u00f6hn,\n    J.B. Bertolus, et al. Updating temporal expectancy of an aversive event\n    engages striatal plasticity under amygdala control.\n    Nature Communications, 8:13920, 2017\n\n.. [2] Jas, M., Dupr\u00e9 La Tour, T., \u015eim\u015fekli, U., & Gramfort, A. (2017).\n    `Learning the Morphology of Brain Signals Using Alpha-Stable Convolutional\n    Sparse Coding\n    <https://papers.nips.cc/paper/6710-learning-the-morphology-of-brain-signals-using-alpha-stable-convolutional-sparse-coding.pdf>`_.\n    Advances in Neural Information Processing Systems (NIPS), pages 1099--1108.\n"
      ]
    },
    {
      "cell_type": "code",
      "execution_count": null,
      "metadata": {
        "collapsed": false
      },
      "outputs": [],
      "source": [
        "# Authors: Tom Dupre La Tour <tom.duprelatour@telecom-paristech.fr>\n#          Mainak Jas <mainak.jas@telecom-paristech.fr>\n#          Umut Simsekli <umut.simsekli@telecom-paristech.fr>\n#          Alexandre Gramfort <alexandre.gramfort@telecom-paristech.fr>\n#\n# License: BSD (3-clause)"
      ]
    },
    {
      "cell_type": "markdown",
      "metadata": {},
      "source": [
        "Let us first load the data sample.\n\n"
      ]
    },
    {
      "cell_type": "code",
      "execution_count": null,
      "metadata": {
        "collapsed": false
      },
      "outputs": [],
      "source": [
        "import mne\nimport numpy as np\nimport matplotlib.pyplot as plt\n\n# sample frequency\nsfreq = 350.\n\n# We load the signal. It is an LFP channel recorded on a rodent's striatum.\ndata = np.load('../rodent_striatum.npy')\nprint(data.shape)"
      ]
    },
    {
      "cell_type": "markdown",
      "metadata": {},
      "source": [
        "Now let us take a closer look, plotting the 100 first seconds of the signal.\n\n"
      ]
    },
    {
      "cell_type": "code",
      "execution_count": null,
      "metadata": {
        "collapsed": false
      },
      "outputs": [],
      "source": [
        "start, stop = [0, 100]  # in seconds\nstart, stop = int(start * sfreq), int(stop * sfreq)\ntime = np.arange(start, stop) / sfreq\nplt.plot(time, data[0, start:stop])\nplt.show()"
      ]
    },
    {
      "cell_type": "markdown",
      "metadata": {},
      "source": [
        "As we can see, the data contains severe artifacts. We will thus compare three\napproaches to tackle these artifacts:\n  - First, we will fit a CSC model on a section not affected by artifacts.\n  - Then, we will fit a CSC model on a section affected by artifacts.\n  - Finally, we will fit an alpha-CSC model on a section affected by\n    artifacts.\n\n"
      ]
    },
    {
      "cell_type": "code",
      "execution_count": null,
      "metadata": {
        "collapsed": false
      },
      "outputs": [],
      "source": [
        "# Define a clean data section.\nstart, stop = [100, 600]  # in seconds\nstart, stop = int(start * sfreq), int(stop * sfreq)\ndata_clean = data[:, start:stop].copy()\n\n# Define a dirty data section (same length).\nstart, stop = [0, 500]  # in seconds\nstart, stop = int(start * sfreq), int(stop * sfreq)\ndata_dirty = data[:, start:stop].copy()\n\n# We also remove the slow drift, which accounts for a lot of variance.\ndata_clean = mne.filter.filter_data(data_clean, sfreq, 1, None)\ndata_dirty = mne.filter.filter_data(data_dirty, sfreq, 1, None)\n\n# To make the most of parallel computing, we split the data into trials.\ndata_clean = data_clean.reshape(50, -1)\ndata_dirty = data_dirty.reshape(50, -1)\n\n# We scale the data, since parameter alpha is scale dependant.\nscale = data_clean.std()\ndata_clean /= scale\ndata_dirty /= scale"
      ]
    },
    {
      "cell_type": "markdown",
      "metadata": {},
      "source": [
        "This sample contains CFC between 3 Hz and 80 Hz. This phenomenon can be\ndescribed with a comodulogram, computed for instance with the `pactools\n<http://pactools.github.io/>`_ Python library.\n\n"
      ]
    },
    {
      "cell_type": "code",
      "execution_count": null,
      "metadata": {
        "collapsed": false
      },
      "outputs": [],
      "source": [
        "from pactools import Comodulogram\n\ncomod = Comodulogram(fs=sfreq, low_fq_range=np.arange(0.2, 10.2, 0.2),\n                     low_fq_width=2., method='duprelatour')\ncomod.fit(data_clean)\ncomod.plot()\nplt.show()"
      ]
    },
    {
      "cell_type": "markdown",
      "metadata": {},
      "source": [
        "Here we define the plotting function which display the learned atoms.\n\n"
      ]
    },
    {
      "cell_type": "code",
      "execution_count": null,
      "metadata": {
        "collapsed": false
      },
      "outputs": [],
      "source": [
        "def plot_atoms(d_hat):\n    n_atoms, n_times_atom = d_hat.shape\n    n_columns = min(6, n_atoms)\n    n_rows = int(np.ceil(n_atoms // n_columns))\n    figsize = (4 * n_columns, 3 * n_rows)\n    fig, axes = plt.subplots(n_rows, n_columns, figsize=figsize, sharey=True)\n    axes = axes.ravel()\n\n    # Plot the temporal pattern of the atom\n    for kk in range(n_atoms):\n        ax = axes[kk]\n        time = np.arange(n_times_atom) / sfreq\n        ax.plot(time, d_hat[kk], color='C%d' % kk)\n        ax.set_xlim(0, n_times_atom / sfreq)\n        ax.set(xlabel='Time (sec)', title=\"Temporal pattern %d\" % kk)\n        ax.grid(True)\n\n    fig.tight_layout()\n    plt.show()"
      ]
    },
    {
      "cell_type": "markdown",
      "metadata": {},
      "source": [
        "Then we define the common parameters of the different models.\n\n"
      ]
    },
    {
      "cell_type": "code",
      "execution_count": null,
      "metadata": {
        "collapsed": false
      },
      "outputs": [],
      "source": [
        "common_params = dict(\n    n_atoms=3,\n    n_times_atom=int(sfreq * 1.0),  # 1000. ms\n    reg=3.,\n    solver_z='l-bfgs',\n    solver_z_kwargs=dict(factr=1e9),\n    solver_d_kwargs=dict(factr=1e2),\n    random_state=42,\n    n_jobs=5,\n    verbose=1)\n\n# number of iterations\nn_iter = 10\n\n# Parameter of the alpha-stable distribution for the alpha-CSC model.\n# 0 < alpha < 2\n# A value of 2 would correspond to the Gaussian noise model, as in vanilla CSC.\nalpha = 1.2"
      ]
    },
    {
      "cell_type": "markdown",
      "metadata": {},
      "source": [
        "First, we fit a CSC model on the clean data. Interestingly, we obtain\nprototypical waveforms of the signal on which we can clearly see the CFC.\n\n"
      ]
    },
    {
      "cell_type": "code",
      "execution_count": null,
      "metadata": {
        "collapsed": false
      },
      "outputs": [],
      "source": [
        "from alphacsc import learn_d_z, learn_d_z_weighted\n\nX = data_clean\n\n_, _, d_hat, z_hat, _ = learn_d_z(X, n_iter=n_iter, **common_params)\n\nplot_atoms(d_hat)"
      ]
    },
    {
      "cell_type": "markdown",
      "metadata": {},
      "source": [
        "Then, if we fit a CSC model on the dirty data, the model is strongly affected\nby the artifacts, and we cannot see CFC anymore in the temporal waveforms.\n\n"
      ]
    },
    {
      "cell_type": "code",
      "execution_count": null,
      "metadata": {
        "collapsed": false
      },
      "outputs": [],
      "source": [
        "X = data_dirty\n\n_, _, d_hat, z_hat, _ = learn_d_z(X, n_iter=n_iter, **common_params)\n\nplot_atoms(d_hat)"
      ]
    },
    {
      "cell_type": "markdown",
      "metadata": {},
      "source": [
        "Finally, If we fit an alpha-CSC model on the dirty data, the model is less\naffected by the artifacts, and we are able to see CFC in the temporal\nwaveforms.\n\n"
      ]
    },
    {
      "cell_type": "code",
      "execution_count": null,
      "metadata": {
        "collapsed": false
      },
      "outputs": [],
      "source": [
        "X = data_dirty\n\nd_hat, z_hat, tau = learn_d_z_weighted(\n    X, n_iter_optim=n_iter, n_iter_global=3, n_iter_mcmc=300,\n    n_burnin_mcmc=100, alpha=alpha, **common_params)\n\nplot_atoms(d_hat)"
      ]
    }
  ],
  "metadata": {
    "kernelspec": {
      "display_name": "Python 3",
      "language": "python",
      "name": "python3"
    },
    "language_info": {
      "codemirror_mode": {
        "name": "ipython",
        "version": 3
      },
      "file_extension": ".py",
      "mimetype": "text/x-python",
      "name": "python",
      "nbconvert_exporter": "python",
      "pygments_lexer": "ipython3",
      "version": "3.8.2"
    }
  },
  "nbformat": 4,
  "nbformat_minor": 0
}