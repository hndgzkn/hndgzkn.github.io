{
  "cells": [
    {
      "cell_type": "code",
      "execution_count": null,
      "metadata": {
        "collapsed": false
      },
      "outputs": [],
      "source": [
        "%matplotlib inline"
      ]
    },
    {
      "cell_type": "markdown",
      "metadata": {},
      "source": [
        "\n# Extracting cross-frequency coupling waveforms from rodent LFP data\n\nThis example illustrates how to learn univariate atoms on a univariate\ntime-serie. The data is a single LFP channel recorded on a rodent's striatum\n[1]_. Interestingly in this time-serie, the high frequency oscillations around\n80 Hz are modulated in amplitude by the low-frequency oscillation around 3 Hz,\na phenomenon known as cross-frequency coupling (CFC).\n\nThe convolutional sparse coding (CSC) model is able to learn the prototypical\nwaveforms of the signal, on which we can clearly see the CFC.\n\n.. [1] G. Dall\u00e9rac, M. Graupner, J. Knippenberg, R. C. R. Martinez,\n    T. F. Tavares, L. Tallot, N. El Massioui, A. Verschueren, S. H\u00f6hn,\n    J.B. Bertolus, et al. Updating temporal expectancy of an aversive event\n    engages striatal plasticity under amygdala control.\n    Nature Communications, 8:13920, 2017\n"
      ]
    },
    {
      "cell_type": "code",
      "execution_count": null,
      "metadata": {
        "collapsed": false
      },
      "outputs": [],
      "source": [
        "# Authors: Tom Dupre La Tour <tom.duprelatour@telecom-paristech.fr>\n#          Mainak Jas <mainak.jas@telecom-paristech.fr>\n#          Umut Simsekli <umut.simsekli@telecom-paristech.fr>\n#          Alexandre Gramfort <alexandre.gramfort@telecom-paristech.fr>\n#\n# License: BSD (3-clause)"
      ]
    },
    {
      "cell_type": "markdown",
      "metadata": {},
      "source": [
        "Let us first load the data sample.\n\n"
      ]
    },
    {
      "cell_type": "code",
      "execution_count": null,
      "metadata": {
        "collapsed": false
      },
      "outputs": [],
      "source": [
        "import mne\nimport numpy as np\nimport matplotlib.pyplot as plt\n\n# sample frequency\nsfreq = 350.\n\n# We load the signal. It is an LFP channel recorded on a rodent's striatum.\ndata = np.load('../rodent_striatum.npy')\nprint(data.shape)"
      ]
    },
    {
      "cell_type": "markdown",
      "metadata": {},
      "source": [
        "As the data contains severe artifacts between t=0 and t=100, we use a\nsection not affected by artifacts.\n\n"
      ]
    },
    {
      "cell_type": "code",
      "execution_count": null,
      "metadata": {
        "collapsed": false
      },
      "outputs": [],
      "source": [
        "data = data[:, 35000:]\n\n# We also remove the slow drift, which accounts for a lot of variance.\ndata = mne.filter.filter_data(data, sfreq, 1, None)\n\n# To make the most of parallel computing, we split the data into trials.\ndata = data.reshape(50, -1)\ndata /= data.std()"
      ]
    },
    {
      "cell_type": "markdown",
      "metadata": {},
      "source": [
        "This sample contains CFC between 3 Hz and 80 Hz. This phenomenon can be\ndescribed with a comodulogram, computed for instance with the `pactools\n<http://pactools.github.io/>`_ Python library.\n\n"
      ]
    },
    {
      "cell_type": "code",
      "execution_count": null,
      "metadata": {
        "collapsed": false
      },
      "outputs": [],
      "source": [
        "from pactools import Comodulogram\n\ncomod = Comodulogram(fs=sfreq, low_fq_range=np.arange(0.2, 10.2, 0.2),\n                     low_fq_width=2., method='duprelatour')\ncomod.fit(data)\ncomod.plot()\nplt.show()"
      ]
    },
    {
      "cell_type": "markdown",
      "metadata": {},
      "source": [
        "We fit a CSC model on the data.\n\n"
      ]
    },
    {
      "cell_type": "code",
      "execution_count": null,
      "metadata": {
        "collapsed": false
      },
      "outputs": [],
      "source": [
        "from alphacsc import learn_d_z\n\nparams = dict(\n    n_atoms=3,\n    n_times_atom=int(sfreq * 1.0),  # 1000. ms\n    reg=5.,\n    n_iter=10,\n    solver_z='l-bfgs',\n    solver_z_kwargs=dict(factr=1e9),\n    solver_d_kwargs=dict(factr=1e2),\n    random_state=42,\n    n_jobs=5,\n    verbose=1)\n\n_, _, d_hat, z_hat, _ = learn_d_z(data, **params)"
      ]
    },
    {
      "cell_type": "markdown",
      "metadata": {},
      "source": [
        "Plot the temporal patterns. Interestingly, we obtain prototypical\nwaveforms of the signal on which we can clearly see the CFC.\n\n"
      ]
    },
    {
      "cell_type": "code",
      "execution_count": null,
      "metadata": {
        "collapsed": false
      },
      "outputs": [],
      "source": [
        "n_atoms, n_times_atom = d_hat.shape\nn_columns = min(6, n_atoms)\nn_rows = int(np.ceil(n_atoms // n_columns))\nfigsize = (4 * n_columns, 3 * n_rows)\nfig, axes = plt.subplots(n_rows, n_columns, figsize=figsize, sharey=True)\naxes = axes.ravel()\n\nfor kk in range(n_atoms):\n    ax = axes[kk]\n    time = np.arange(n_times_atom) / sfreq\n    ax.plot(time, d_hat[kk], color='C%d' % kk)\n    ax.set_xlim(0, n_times_atom / sfreq)\n    ax.set(xlabel='Time (sec)', title=\"Temporal pattern %d\" % kk)\n    ax.grid(True)\n\nfig.tight_layout()\nplt.show()"
      ]
    }
  ],
  "metadata": {
    "kernelspec": {
      "display_name": "Python 3",
      "language": "python",
      "name": "python3"
    },
    "language_info": {
      "codemirror_mode": {
        "name": "ipython",
        "version": 3
      },
      "file_extension": ".py",
      "mimetype": "text/x-python",
      "name": "python",
      "nbconvert_exporter": "python",
      "pygments_lexer": "ipython3",
      "version": "3.8.2"
    }
  },
  "nbformat": 4,
  "nbformat_minor": 0
}