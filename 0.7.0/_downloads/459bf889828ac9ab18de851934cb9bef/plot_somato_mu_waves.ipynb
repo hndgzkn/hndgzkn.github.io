{
  "cells": [
    {
      "cell_type": "code",
      "execution_count": null,
      "metadata": {
        "collapsed": false
      },
      "outputs": [],
      "source": [
        "%matplotlib inline"
      ]
    },
    {
      "cell_type": "markdown",
      "metadata": {},
      "source": [
        "\n# Extracting $\\mu$-wave from the somato-sensory dataset\n\nThis example illustrates how to learn rank-1 atoms [1]_ on the multivariate\nsomato-sensorymotor dataset from :code:`mne`. The displayed results highlight\nthe presence of $\\mu$-waves located in the SI cortex.\n\n.. [1] Dupr\u00e9 La Tour, T., Moreau, T., Jas, M., & Gramfort, A. (2018).\n    `Multivariate Convolutional Sparse Coding for Electromagnetic Brain Signals\n    <https://arxiv.org/abs/1805.09654v2>`_. Advances in Neural Information\n    Processing Systems (NIPS).\n"
      ]
    },
    {
      "cell_type": "code",
      "execution_count": null,
      "metadata": {
        "collapsed": false
      },
      "outputs": [],
      "source": [
        "# Authors: Thomas Moreau <thomas.moreau@inria.fr>\n#          Mainak Jas <mainak.jas@telecom-paristech.fr>\n#          Tom Dupre La Tour <tom.duprelatour@telecom-paristech.fr>\n#          Alexandre Gramfort <alexandre.gramfort@telecom-paristech.fr>\n#\n# License: BSD (3-clause)"
      ]
    },
    {
      "cell_type": "markdown",
      "metadata": {},
      "source": [
        "Let us first define the parameters of our model.\n\n"
      ]
    },
    {
      "cell_type": "code",
      "execution_count": null,
      "metadata": {
        "collapsed": false
      },
      "outputs": [],
      "source": [
        "sfreq = 150.\n\n# Define the shape of the dictionary\nn_atoms = 25\nn_times_atom = int(round(sfreq * 1.0))  # 1000. ms"
      ]
    },
    {
      "cell_type": "markdown",
      "metadata": {},
      "source": [
        "Next, we define the parameters for multivariate CSC\n\n"
      ]
    },
    {
      "cell_type": "code",
      "execution_count": null,
      "metadata": {
        "collapsed": false
      },
      "outputs": [],
      "source": [
        "from alphacsc import BatchCDL\ncdl = BatchCDL(\n    # Shape of the dictionary\n    n_atoms=n_atoms,\n    n_times_atom=n_times_atom,\n    # Request a rank1 dictionary with unit norm temporal and spatial maps\n    rank1=True, uv_constraint='separate',\n    # Initialize the dictionary with random chunk from the data\n    D_init='chunk',\n    # rescale the regularization parameter to be 20% of lambda_max\n    lmbd_max=\"scaled\", reg=.2,\n    # Number of iteration for the alternate minimization and cvg threshold\n    n_iter=100, eps=1e-4,\n    # solver for the z-step\n    solver_z=\"lgcd\", solver_z_kwargs={'tol': 1e-2, 'max_iter': 1000},\n    # solver for the d-step\n    solver_d='alternate_adaptive', solver_d_kwargs={'max_iter': 300},\n    # Technical parameters\n    verbose=1, random_state=0, n_jobs=6)"
      ]
    },
    {
      "cell_type": "markdown",
      "metadata": {},
      "source": [
        "Here, we load the data from the somato-sensory dataset and preprocess them\nin epochs. The epochs are selected around the stim, starting 2 seconds\nbefore and finishing 4 seconds after.\n\n"
      ]
    },
    {
      "cell_type": "code",
      "execution_count": null,
      "metadata": {
        "collapsed": false
      },
      "outputs": [],
      "source": [
        "from alphacsc.datasets.mne_data import load_data\nt_lim = (-2, 4)\nX, info = load_data(dataset='somato', epoch=t_lim, sfreq=sfreq)"
      ]
    },
    {
      "cell_type": "markdown",
      "metadata": {},
      "source": [
        "Fit the model and learn rank1 atoms\n\n"
      ]
    },
    {
      "cell_type": "code",
      "execution_count": null,
      "metadata": {
        "collapsed": false
      },
      "outputs": [],
      "source": [
        "cdl.fit(X)"
      ]
    },
    {
      "cell_type": "markdown",
      "metadata": {},
      "source": [
        "Display the 4-th atom, which displays a $\\mu$-waveform in its temporal\npattern.\n\n"
      ]
    },
    {
      "cell_type": "code",
      "execution_count": null,
      "metadata": {
        "collapsed": false
      },
      "outputs": [],
      "source": [
        "import mne\nimport numpy as np\nimport matplotlib.pyplot as plt\n\ni_atom = 4\nn_plots = 3\nfigsize = (n_plots * 5, 5.5)\nfig, axes = plt.subplots(1, n_plots, figsize=figsize, squeeze=False)\n\n# Plot the spatial map of the learn atom using mne topomap\nax = axes[0, 0]\nu_hat = cdl.u_hat_[i_atom]\nmne.viz.plot_topomap(u_hat, info, axes=ax, show=False)\nax.set(title='Learned spatial pattern')\n\n# Plot the temporal pattern of the learn atom\nax = axes[0, 1]\nv_hat = cdl.v_hat_[i_atom]\nt = np.arange(v_hat.size) / sfreq\nax.plot(t, v_hat)\nax.set(xlabel='Time (sec)', title='Learned temporal waveform')\nax.grid(True)\n\n# Plot the psd of the time atom\nax = axes[0, 2]\npsd = np.abs(np.fft.rfft(v_hat)) ** 2\nfrequencies = np.linspace(0, sfreq / 2.0, len(psd))\nax.semilogy(frequencies, psd)\nax.set(xlabel='Frequencies (Hz)', title='Power Spectral Density')\nax.grid(True)\nax.set_xlim(0, 30)\n\nplt.tight_layout()\nplt.show()"
      ]
    }
  ],
  "metadata": {
    "kernelspec": {
      "display_name": "Python 3",
      "language": "python",
      "name": "python3"
    },
    "language_info": {
      "codemirror_mode": {
        "name": "ipython",
        "version": 3
      },
      "file_extension": ".py",
      "mimetype": "text/x-python",
      "name": "python",
      "nbconvert_exporter": "python",
      "pygments_lexer": "ipython3",
      "version": "3.9.1"
    }
  },
  "nbformat": 4,
  "nbformat_minor": 0
}