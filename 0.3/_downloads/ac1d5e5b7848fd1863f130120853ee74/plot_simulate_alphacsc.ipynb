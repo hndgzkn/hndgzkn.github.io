{
  "cells": [
    {
      "cell_type": "code",
      "execution_count": null,
      "metadata": {
        "collapsed": false
      },
      "outputs": [],
      "source": [
        "%matplotlib inline"
      ]
    },
    {
      "cell_type": "markdown",
      "metadata": {},
      "source": [
        "\n# Alpha CSC on simulated data\n\nThis example demonstrates alphaCSC [1]_ on simulated data.\n\n.. [1] Jas, M., Dupr\u00e9 La Tour, T., \u015eim\u015fekli, U., & Gramfort, A. (2017).\n    `Learning the Morphology of Brain Signals Using Alpha-Stable Convolutional\n    Sparse Coding\n    <https://papers.nips.cc/paper/6710-learning-the-morphology-of-brain-signals-using-alpha-stable-convolutional-sparse-coding.pdf>`_.\n    Advances in Neural Information Processing Systems (NIPS), pages 1099--1108.\n"
      ]
    },
    {
      "cell_type": "code",
      "execution_count": null,
      "metadata": {
        "collapsed": false
      },
      "outputs": [],
      "source": [
        "# Authors: Mainak Jas <mainak.jas@telecom-paristech.fr>\n#          Tom Dupre La Tour <tom.duprelatour@telecom-paristech.fr>\n#          Umut Simsekli <umut.simsekli@telecom-paristech.fr>\n#          Alexandre Gramfort <alexandre.gramfort@telecom-paristech.fr>\n#\n# License: BSD (3-clause)"
      ]
    },
    {
      "cell_type": "markdown",
      "metadata": {},
      "source": [
        "Let us first define the parameters of our model.\n\n"
      ]
    },
    {
      "cell_type": "code",
      "execution_count": null,
      "metadata": {
        "collapsed": false
      },
      "outputs": [],
      "source": [
        "n_times_atom = 64  # L\nn_times = 512  # T\nn_atoms = 2  # K\nn_trials = 100  # N\n\nalpha = 1.2\nreg = 0.1"
      ]
    },
    {
      "cell_type": "markdown",
      "metadata": {},
      "source": [
        "Next, we define the parameters for alpha CSC\n\n"
      ]
    },
    {
      "cell_type": "code",
      "execution_count": null,
      "metadata": {
        "collapsed": false
      },
      "outputs": [],
      "source": [
        "n_iter_global = 10\nn_iter_optim = 50\nn_iter_mcmc = 100\nn_burnin_mcmc = 50"
      ]
    },
    {
      "cell_type": "markdown",
      "metadata": {},
      "source": [
        "Here, we simulate the data\n\n"
      ]
    },
    {
      "cell_type": "code",
      "execution_count": null,
      "metadata": {
        "collapsed": false
      },
      "outputs": [],
      "source": [
        "from alphacsc.simulate import simulate_data\n\nrandom_state_simulate = 1\nX, ds_true, z_true = simulate_data(n_trials, n_times, n_times_atom,\n                                   n_atoms, random_state_simulate)"
      ]
    },
    {
      "cell_type": "markdown",
      "metadata": {},
      "source": [
        "Add some noise and corrupt some trials even with impulsive noise\n\n"
      ]
    },
    {
      "cell_type": "code",
      "execution_count": null,
      "metadata": {
        "collapsed": false
      },
      "outputs": [],
      "source": [
        "from scipy.stats import levy_stable\nfrom alphacsc import check_random_state\n\nfraction_corrupted = 0.02\nn_corrupted_trials = int(fraction_corrupted * n_trials)\n\n# Add stationary noise:\nrng = check_random_state(random_state_simulate)\nX += 0.01 * rng.randn(*X.shape)\n\nnoise_level = 0.005\n# add impulsive noise\nidx_corrupted = rng.randint(0, n_trials,\n                            size=n_corrupted_trials)\nX[idx_corrupted] += levy_stable.rvs(alpha, 0, loc=0, scale=noise_level,\n                                    size=(n_corrupted_trials, n_times),\n                                    random_state=random_state_simulate)"
      ]
    },
    {
      "cell_type": "markdown",
      "metadata": {},
      "source": [
        "and then alpha CSC on the same data\n\n"
      ]
    },
    {
      "cell_type": "code",
      "execution_count": null,
      "metadata": {
        "collapsed": false
      },
      "outputs": [],
      "source": [
        "from alphacsc import learn_d_z_weighted\n\nd_hat, z_hat, Tau = learn_d_z_weighted(\n    X, n_atoms, n_times_atom, reg=reg, alpha=alpha,\n    solver_d_kwargs=dict(factr=100), n_iter_global=n_iter_global,\n    n_iter_optim=n_iter_optim, init_tau=True,\n    n_iter_mcmc=n_iter_mcmc, n_burnin_mcmc=n_burnin_mcmc,\n    random_state=60, n_jobs=1, verbose=1)"
      ]
    },
    {
      "cell_type": "markdown",
      "metadata": {},
      "source": [
        "Finally, let's compare the results. Now, it works even in the presence\nof impulsive noise.\n\n"
      ]
    },
    {
      "cell_type": "code",
      "execution_count": null,
      "metadata": {
        "collapsed": false
      },
      "outputs": [],
      "source": [
        "import matplotlib.pyplot as plt\n\nplt.figure()\nplt.plot(d_hat.T, 'b', label=r'$\\alpha$CSC')\nplt.plot(ds_true.T, 'k--', label='True atoms')\nhandles, labels = plt.gca().get_legend_handles_labels()\nplt.legend(handles[::2], labels[::2], loc='best')\nplt.show()"
      ]
    },
    {
      "cell_type": "markdown",
      "metadata": {},
      "source": [
        "We can even visualize the weights to see what time points were\ndownweighted by the algorithm\n\n"
      ]
    },
    {
      "cell_type": "code",
      "execution_count": null,
      "metadata": {
        "collapsed": false
      },
      "outputs": [],
      "source": [
        "fig, axes = plt.subplots(2, 1, sharex=True)\naxes[0].set_xlim([-20, n_times])\naxes[0].set_ylim([0, 2])\naxes[1].set_ylim([-0.5, 0.3])\n\nfor t in [2, 250]:\n    axes[0].axvline(t, linestyle='-.')\n    axes[1].axvline(t, linestyle='-.')\n\naxes[0].plot(1 / Tau[idx_corrupted[0], :])\naxes[0].set_ylabel('1 / weights')\naxes[1].plot(X[idx_corrupted[0], :])\naxes[1].set_ylabel('Corrupted trial')"
      ]
    }
  ],
  "metadata": {
    "kernelspec": {
      "display_name": "Python 3",
      "language": "python",
      "name": "python3"
    },
    "language_info": {
      "codemirror_mode": {
        "name": "ipython",
        "version": 3
      },
      "file_extension": ".py",
      "mimetype": "text/x-python",
      "name": "python",
      "nbconvert_exporter": "python",
      "pygments_lexer": "ipython3",
      "version": "3.8.5"
    }
  },
  "nbformat": 4,
  "nbformat_minor": 0
}